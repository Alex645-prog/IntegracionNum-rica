{
 "cells": [
  {
   "cell_type": "markdown",
   "metadata": {},
   "source": [
    "# INTEGRACIÒN NUMÈRICA (PARTE II).    \n",
    "\n",
    "\n",
    "### **Instituto Politècnico Nacional - Escuela Superior de Fìsica y Matemàticas**  \n",
    "\n",
    "#### Mètodos Numèricos II  4MM1  \n",
    "#### Alejandro Felipe Aviles  \n",
    "___   \n"
   ]
  },
  {
   "cell_type": "markdown",
   "metadata": {},
   "source": [
    "# INTEGRALES DOBLES (IMPLEMENTACIÒN CON SIMPSON $\\frac{1}{3}$)"
   ]
  },
  {
   "cell_type": "code",
   "execution_count": 3,
   "metadata": {},
   "outputs": [
    {
     "name": "stdout",
     "output_type": "stream",
     "text": [
      "Valor Aproximado:  3.9159049637300636\n",
      "Valor exacto:  3.91590487315647\n",
      "Error verdadero:  9.057359351416494e-08\n",
      "Error porcentual:  2.3129671544129423e-06 %\n"
     ]
    }
   ],
   "source": [
    "from scipy import integrate\n",
    "\n",
    "def func(x, y):\n",
    "    f=pow(pow(x, 4) + pow(y, 5), 0.5)\n",
    "    return f\n",
    "\n",
    "def ValExa(lx,ux,ly,uy):\n",
    "    f=lambda x,y:pow(pow(x, 4) + pow(y, 5), 0.5)\n",
    "    return integrate.dblquad(f, lx, ux, lambda x: ly, lambda x: uy)\n",
    "\n",
    "    \n",
    "def doubleIntegral(h, k, lx, ux, ly, uy):\n",
    "    z = [[None for i in range(50)]\n",
    "                for j in range(50)]\n",
    "    ax = [None] * 50\n",
    "\n",
    "\n",
    "    nx = round((ux - lx) / h + 1)\n",
    "    ny = round((uy - ly) / k + 1)\n",
    "\n",
    "    \n",
    "    for i in range(0, nx):\n",
    "        for j in range(0, ny):\n",
    "            z[i][j] = func(lx + i * h,ly + j * k)\n",
    "\n",
    "    for i in range(0, nx):\n",
    "        ax[i] = 0\n",
    "        for j in range(0, ny):\n",
    "            \n",
    "            if j == 0 or j == ny - 1:\n",
    "                ax[i] += z[i][j]\n",
    "            elif j % 2 == 0:\n",
    "                ax[i] += 2 * z[i][j]\n",
    "            else:\n",
    "                ax[i] += 4 * z[i][j]\n",
    "\n",
    "        ax[i] *= (k / 3)\n",
    "    \n",
    "    answer = 0\n",
    "\n",
    "    for i in range(0, nx):\n",
    "        if i == 0 or i == nx - 1:\n",
    "            answer += ax[i]\n",
    "        elif i % 2 == 0:\n",
    "            answer += 2 * ax[i]\n",
    "        else:\n",
    "            answer += 4 * ax[i]\n",
    "    \n",
    "    answer *= (h / 3)\n",
    "\n",
    "    return answer\n",
    "\n",
    "\n",
    "if __name__ == \"__main__\":\n",
    "\n",
    "\n",
    "    lx, ux, ly = 2.3, 2.5, 3.7\n",
    "    uy, h, k = 4.3, 0.1, 0.15\n",
    "    \n",
    "    a=round(doubleIntegral(h, k, lx, ux, ly, uy), 20)\n",
    "    print(\"Valor Aproximado: \",a)\n",
    "\n",
    "    gfg = lambda y, x: pow(pow(x, 4) + pow(y, 5), 0.5)\n",
    "\n",
    "\n",
    "ValExa,r = integrate.dblquad(gfg, lx, ux, lambda x: ly, lambda x: uy)\n",
    "print(\"Valor exacto: \",ValExa)\n",
    "EV=abs(ValExa-a)\n",
    "print(\"Error verdadero: \",EV)\n",
    "ER=EV/(ValExa)*100\n",
    "print(\"Error porcentual: \",ER,\"%\")\n",
    "  "
   ]
  },
  {
   "cell_type": "markdown",
   "metadata": {},
   "source": [
    "# MÈTODO DE ROMBERG (CON TRAPECIO COMPUESTO).\n",
    "  \n"
   ]
  },
  {
   "cell_type": "code",
   "execution_count": 5,
   "metadata": {},
   "outputs": [
    {
     "name": "stdout",
     "output_type": "stream",
     "text": [
      "[0.78539816]\n",
      "[0.94805945 1.00227988]\n",
      "[0.9871158  1.00013458 0.99999157]\n",
      "[0.99678517 1.0000083  0.99999988 1.00000001]\n",
      "1.0000000081440203\n"
     ]
    }
   ],
   "source": [
    "import numpy as np\n",
    "\n",
    "def trapezcomp(f, a, b, n):\n",
    "    h = (b - a) / n\n",
    "    x = a\n",
    "    In = f(a)\n",
    "    for k in range(1, n):\n",
    "        x  = x + h\n",
    "        In += 2*f(x)\n",
    "\n",
    "    return (In + f(b))*h*0.5\n",
    "\n",
    "def romberg(f, a, b, p):\n",
    "\n",
    "    I = np.zeros((p, p))\n",
    "    for k in range(0, p):\n",
    "        I[k, 0] = trapezcomp(f, a, b, 2**k)\n",
    "\n",
    "       \n",
    "        for j in range(0, k):\n",
    "            I[k, j+1] = (4**(j+1) * I[k, j] - I[k-1, j]) / (4**(j+1) - 1)\n",
    "\n",
    "        print(I[k,0:k+1])\n",
    "\n",
    "    return I\n",
    "\n",
    "\n",
    "if __name__ == '__main__':\n",
    "    def func(x):\n",
    "        return np.sin(x)\n",
    "\n",
    "    p_rows = 4\n",
    "    I = romberg(func, 0, np.pi/2, p_rows)\n",
    "    aprox = I[p_rows-1, p_rows-1]\n",
    "    print(aprox)    "
   ]
  },
  {
   "cell_type": "markdown",
   "metadata": {},
   "source": [
    "# CUADRATURA DE GAUSS (CON 2 PUNTOS)."
   ]
  },
  {
   "cell_type": "code",
   "execution_count": 92,
   "metadata": {},
   "outputs": [
    {
     "name": "stdout",
     "output_type": "stream",
     "text": [
      "Valor Exacto:  680.806650666453\n",
      "Valor aproximado:  663.8147445844721\n",
      "Error verdadero:  16.991906081980915\n",
      "Error relativo porcentual:  2.4958490145986754 %\n"
     ]
    }
   ],
   "source": [
    "from scipy.integrate import quad\n",
    "from sympy import *\n",
    "import numpy as np\n",
    "import sympy as sym\n",
    "\n",
    "x=Symbol('x')\n",
    "\n",
    "def func(x):\n",
    "    return (x**10+3*x**2)/(x**5+1)\n",
    "\n",
    "def gauss2puntos(func,a,b):\n",
    "    t1=(a+b)/2-(b-a)/(2*((3)**(0.5)))\n",
    "    t2=(a+b)/2+(b-a)/(2*((3)**(0.5)))\n",
    "    return (b-a)/2*(func(t1)+func(t2))\n",
    "\n",
    "a=1\n",
    "b=4\n",
    "ValAprox=gauss2puntos(func,a,b)\n",
    "VE,r=quad(func,a,b)\n",
    "EV=abs(VE-ValAprox)\n",
    "ER=EV/(VE)*100\n",
    "print(\"Valor Exacto: \",VE)\n",
    "print(\"Valor aproximado: \",ValAprox)\n",
    "print(\"Error verdadero: \",EV)\n",
    "print(\"Error relativo porcentual: \",ER,\"%\")"
   ]
  },
  {
   "cell_type": "markdown",
   "metadata": {},
   "source": [
    "# CUADRATURA DE GAUSS (CON 3 PUNTOS)."
   ]
  },
  {
   "cell_type": "code",
   "execution_count": null,
   "metadata": {},
   "outputs": [],
   "source": [
    "from scipy.integrate import quad\n",
    "from sympy import *\n",
    "import numpy as np\n",
    "import sympy as sym\n",
    "\n",
    "\n",
    "\n",
    "def func(x):\n",
    "    return (x**3+1)/(x**2+5)\n",
    "\n",
    "def gauss3puntos(func,a,b):\n",
    "    t1=(a+b)/2-(np.sqrt(3)*(b-a))/(2*np.sqrt(5))\n",
    "    t2=(a+b)/2+(np.sqrt(3)*(b-a))/(2*np.sqrt(5));\n",
    "    t3=(a+b)/2\n",
    "    return (b-a)/2*(5/9*func(t1)+5/9*func(t2)+8/9*func(t3))\n",
    "\n",
    "a=-0.8\n",
    "b=1.5\n",
    "ValAprox=gauss3puntos(func,a,b)\n",
    "VE,r=quad(func,a,b)\n",
    "EV=abs(VE-ValAprox)\n",
    "ER=EV/(VE)*100\n",
    "print(\"Valor Exacto: \",VE)\n",
    "print(\"Valor aproximado: \",ValAprox)\n",
    "print(\"Error verdadero: \",EV)\n",
    "print(\"Error relativo porcentual: \",ER,\"%\")"
   ]
  },
  {
   "cell_type": "markdown",
   "metadata": {},
   "source": [
    "# FORMÙLA RECURSIVA (TRAPECIO)."
   ]
  },
  {
   "cell_type": "markdown",
   "metadata": {},
   "source": [
    "Implementacion en Octave, se recomienda ejecutar ya sea en Octave instakado o en Octave online, se anexa forma de ejecuciòn.  \n",
   "![Octave](img/Octave.png)"
   ]
  }
 ],
 "metadata": {
  "kernelspec": {
   "display_name": "Python 3",
   "language": "python",
   "name": "python3"
  },
  "language_info": {
   "codemirror_mode": {
    "name": "ipython",
    "version": 3
   },
   "file_extension": ".py",
   "mimetype": "text/x-python",
   "name": "python",
   "nbconvert_exporter": "python",
   "pygments_lexer": "ipython3",
   "version": "3.7.3"
  }
 },
 "nbformat": 4,
 "nbformat_minor": 2
}
